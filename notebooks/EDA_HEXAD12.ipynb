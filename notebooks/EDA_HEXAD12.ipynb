{
 "cells": [
  {
   "cell_type": "markdown",
   "metadata": {},
   "source": [
    "# EDA Univariado y Bivariado – HEXAD Study \n",
    "\n",
    "_Objetivo:_ Explorar distribuciones (edad, género, países), porcentajes de motivaciones Hexad y relaciones básicas (edad/género vs rasgos). Incluir fiabilidad (alfa de Cronbach) para sustentar puntajes compuestos.\n",
    "\n",
    "## Preguntas guía\n",
    "1. ¿La **edad** se relaciona con alguna **motivación Hexad**?\n",
    "2. ¿Existen **diferencias por género** en los porcentajes de motivación?\n",
    "3. ¿Qué **rasgos co-varían** entre sí?\n",
    "4. ¿La **fiabilidad** de los ítems por rasgo es suficiente?\n"
   ]
  },
  {
  ## Abrir en Google Colab

[![Open In Colab](https://colab.research.google.com/assets/colab-badge.svg)](
https://colab.research.google.com/github/JesusConnolly/eda-hexad-study2/blob/main/notebooks/EDA_HEXAD12.ipynb)
