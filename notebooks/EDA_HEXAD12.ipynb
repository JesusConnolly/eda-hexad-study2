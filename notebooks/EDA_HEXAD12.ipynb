{
 "cells": [
  {
   "cell_type": "markdown",
   "metadata": {},
   "source": [
    "# EDA Univariado y Bivariado – HEXAD Study 2\n",
    "\n",
    "_Objetivo:_ Explorar distribuciones (edad, género, países), porcentajes de motivaciones Hexad y relaciones básicas (edad/género vs rasgos). Incluir fiabilidad (alfa de Cronbach) para sustentar puntajes compuestos.\n",
    "\n",
    "## Preguntas guía\n",
    "1. ¿La **edad** se relaciona con alguna **motivación Hexad**?\n",
    "2. ¿Existen **diferencias por género** en los porcentajes de motivación?\n",
    "3. ¿Qué **rasgos co-varían** entre sí?\n",
    "4. ¿La **fiabilidad** de los ítems por rasgo es suficiente?\n"
   ]
  },
  {
   "cell_type": "markdown",
   "metadata": {},
   "source": [
    "## 0) Configuración\n",
    "- Ejecuta las celdas en orden.\n",
    "- Coloca tu CSV en `data/dataset-hexad-12-study-2.csv` (no lo subas si es privado)."
   ]
  },
  {
   "cell_type": "code",
   "execution_count": null,
   "metadata": {},
   "outputs": [],
   "source": [
    "import pandas as pd\n",
    "import numpy as np\n",
    "import matplotlib.pyplot as plt\n",
    "from pathlib import Path\n",
    "\n",
    "PLOTS_DIR = Path('eda_plots'); PLOTS_DIR.mkdir(parents=True, exist_ok=True)\n",
    "DATA_PATH = Path('data') / 'dataset-hexad-12-study-2.csv'\n",
    "print('Carpetas listas. DATA_PATH =', DATA_PATH)"
   ]
  },
  {
   "cell_type": "markdown",
   "metadata": {},
   "source": [
    "## 1) Carga y vista general"
   ]
  },
  {
   "cell_type": "code",
   "execution_count": null,
   "metadata": {},
   "outputs": [],
   "source": [
    "try:\n",
    "    df = pd.read_csv(DATA_PATH)\n",
    "    print('✔ Dataset cargado:', DATA_PATH)\n",
    "except Exception as e:\n",
    "    raise SystemExit('⚠ No pude cargar el CSV. Asegúrate de que exista en data/.\\nError: ' + str(e))\n",
    "\n",
    "display(df.head())\n",
    "print('Dimensiones (filas, columnas):', df.shape)\n",
    "display(df.dtypes)"
   ]
  },
  {
   "cell_type": "markdown",
   "metadata": {},
   "source": [
    "## 2) Calidad de datos y saneamiento"
   ]
  },
  {
   "cell_type": "code",
   "execution_count": null,
   "metadata": {},
   "outputs": [],
   "source": [
    "na = df.isna().sum().sort_values(ascending=False)\n",
    "na_pct = (na/len(df)*100).round(2)\n",
    "display(pd.DataFrame({'faltantes': na, '%': na_pct}).head(15))\n",
    "\n",
    "df['age_num'] = pd.to_numeric(df.get('age'), errors='coerce')\n",
    "print('age_num válidos:', df['age_num'].notna().sum())"
   ]
  },
  {
   "cell_type": "markdown",
   "metadata": {},
   "source": [
    "## 3) Univariado: demografía y rasgos"
   ]
  },
  {
   "cell_type": "code",
   "execution_count": null,
   "metadata": {},
   "outputs": [],
   "source": [
    "display(df['age_num'].describe())\n",
    "display(df['gender'].value_counts(dropna=False))\n",
    "display(df['countryOfOrigin_label'].value_counts().head(10))\n",
    "\n",
    "plt.figure(); df['age_num'].dropna().plot(kind='hist', bins=30)\n",
    "plt.title('Distribución de edad'); plt.xlabel('Edad'); plt.ylabel('Frecuencia')\n",
    "plt.savefig(PLOTS_DIR / 'hist_edad.png', bbox_inches='tight'); plt.show()\n",
    "\n",
    "plt.figure(); df['gender'].value_counts(dropna=False).plot(kind='bar')\n",
    "plt.title('Frecuencia por género'); plt.xlabel('Género'); plt.ylabel('Conteo')\n",
    "plt.savefig(PLOTS_DIR / 'bar_genero.png', bbox_inches='tight'); plt.show()\n",
    "\n",
    "perc_cols = [c for c in df.columns if c.startswith('hexadType_percentage_')]\n",
    "display(df[perc_cols].describe().T)\n",
    "for c in perc_cols:\n",
    "    plt.figure(); df[c].dropna().plot(kind='hist', bins=20)\n",
    "    plt.title(f'Distribución: {c}'); plt.xlabel('Porcentaje (0-100)'); plt.ylabel('Frecuencia')\n",
    "    plt.savefig(PLOTS_DIR / f'hist_{c}.png', bbox_inches='tight'); plt.show()"
   ]
  },
  {
   "cell_type": "markdown",
   "metadata": {},
   "source": [
    "## 4) Puntajes por rasgo y fiabilidad (alfa de Cronbach)"
   ]
  },
  {
   "cell_type": "code",
   "execution_count": null,
   "metadata": {},
   "outputs": [],
   "source": [
    "def cronbach_alpha(df_items):\n",
    "    df_items = df_items.dropna()\n",
    "    k = df_items.shape[1]\n",
    "    if k < 2:\n",
    "        return np.nan\n",
    "    variances = df_items.var(axis=0, ddof=1)\n",
    "    total_var = df_items.sum(axis=1).var(ddof=1)\n",
    "    if total_var == 0:\n",
    "        return np.nan\n",
    "    return (k/(k-1))*(1 - variances.sum()/total_var)\n",
    "\n",
    "traits = {'A': 'achiever', 'D': 'disruptor', 'F': 'freeSpirit', 'P': 'philanthropist', 'R': 'player', 'S': 'socializer'}\n",
    "items_by_trait = {t: [f\"{t}{i}\" for i in range(1,5)] for t in traits.keys()}\n",
    "\n",
    "alphas = {}\n",
    "for prefix, cols in items_by_trait.items():\n",
    "    trait = traits[prefix]\n",
    "    sum_col = f'{trait}_sum4'\n",
    "    df[sum_col] = df[cols].sum(axis=1, min_count=1)\n",
    "    alphas[trait] = cronbach_alpha(df[cols])\n",
    "\n",
    "alphas"
   ]
  },
  {
   "cell_type": "markdown",
   "metadata": {},
   "source": [
    "## 5) Bivariado: correlaciones y comparaciones por grupos"
   ]
  },
  {
   "cell_type": "code",
   "execution_count": null,
   "metadata": {},
   "outputs": [],
   "source": [
    "targets = perc_cols + [c for c in df.columns if c.endswith('_sum4')]\n",
    "corr = df[targets].corr(method='pearson')\n",
    "display(corr.round(2))\n",
    "\n",
    "plt.figure(figsize=(8,6))\n",
    "plt.imshow(corr, aspect='auto', interpolation='nearest')\n",
    "plt.colorbar(); plt.xticks(range(len(corr.columns)), corr.columns, rotation=90)\n",
    "plt.yticks(range(len(corr.index)), corr.index); plt.title('Matriz de correlaciones (Pearson)')\n",
    "plt.tight_layout(); plt.savefig(PLOTS_DIR / 'correlaciones_heatmap.png', bbox_inches='tight'); plt.show()\n",
    "\n",
    "age_corr = df[perc_cols + ['age_num']].corr().loc('age_num') if 'age_num' in df.columns else None\n",
    "age_corr"
   ]
  },
  {
   "cell_type": "markdown",
   "metadata": {},
   "source": [
    "## 6) Interpretación (escribe aquí tus conclusiones)\n",
    "- **Edad vs rasgos**: ¿correlaciones pequeñas/medias? ¿qué ves en los histogramas/heatmap?\n",
    "- **Género vs rasgos**: ¿diferencias visibles? (agrega boxplots si lo necesitas)\n",
    "- **Co-variación**: ¿pares de rasgos con correlación más alta?\n",
    "- **Fiabilidad**: ¿α ≥ 0.70 en la mayoría? ¿advertencias?\n"
   ]
  }
 ],
 "metadata": {
  "kernelspec": {
   "display_name": "Python 3",
   "language": "python",
   "name": "python3"
  },
  "language_info": {
   "name": "python"
  }
 },
 "nbformat": 4,
 "nbformat_minor": 5
}
